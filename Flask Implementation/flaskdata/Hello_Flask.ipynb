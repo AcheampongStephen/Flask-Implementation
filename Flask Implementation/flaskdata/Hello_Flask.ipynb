{
 "cells": [
  {
   "cell_type": "code",
   "execution_count": 2,
   "id": "d5933711",
   "metadata": {},
   "outputs": [
    {
     "name": "stderr",
     "output_type": "stream",
     "text": [
      " * Running on http://localhost:9000 (Press CTRL+C to quit)\n",
      "127.0.0.1 - - [21/Jan/2023 18:06:24] \"GET / HTTP/1.1\" 200 -\n",
      "127.0.0.1 - - [21/Jan/2023 18:06:39] \"GET /index HTTP/1.1\" 200 -\n",
      "127.0.0.1 - - [21/Jan/2023 18:06:58] \"GET / HTTP/1.1\" 200 -\n"
     ]
    }
   ],
   "source": [
    "from werkzeug.wrappers import Request, Response\n",
    "from werkzeug.serving import run_simple\n",
    "from flask import Flask\n",
    "\n",
    "app = Flask(__name__)\n",
    "\n",
    "@app.route(\"/\")\n",
    "def hello():\n",
    "    return 'Hello World'\n",
    "\n",
    "@app.route(\"/index\")\n",
    "def home():\n",
    "    return 'Hello'\n",
    "if __name__== '__main__':\n",
    "    run_simple('localhost', 9000, app)"
   ]
  },
  {
   "cell_type": "code",
   "execution_count": null,
   "id": "53c37893",
   "metadata": {},
   "outputs": [],
   "source": []
  }
 ],
 "metadata": {
  "kernelspec": {
   "display_name": "Python 3 (ipykernel)",
   "language": "python",
   "name": "python3"
  },
  "language_info": {
   "codemirror_mode": {
    "name": "ipython",
    "version": 3
   },
   "file_extension": ".py",
   "mimetype": "text/x-python",
   "name": "python",
   "nbconvert_exporter": "python",
   "pygments_lexer": "ipython3",
   "version": "3.9.15"
  }
 },
 "nbformat": 4,
 "nbformat_minor": 5
}
