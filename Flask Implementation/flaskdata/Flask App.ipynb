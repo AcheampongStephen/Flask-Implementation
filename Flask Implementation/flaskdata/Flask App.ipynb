{
 "cells": [
  {
   "cell_type": "code",
   "execution_count": 1,
   "id": "056b8cc0",
   "metadata": {},
   "outputs": [
    {
     "name": "stdout",
     "output_type": "stream",
     "text": [
      " * Serving Flask app '__main__' (lazy loading)\n",
      " * Environment: production\n",
      "\u001b[31m   WARNING: This is a development server. Do not use it in a production deployment.\u001b[0m\n",
      "\u001b[2m   Use a production WSGI server instead.\u001b[0m\n",
      " * Debug mode: on\n"
     ]
    },
    {
     "name": "stderr",
     "output_type": "stream",
     "text": [
      " * Running on http://127.0.0.1:5000 (Press CTRL+C to quit)\n"
     ]
    },
    {
     "name": "stdout",
     "output_type": "stream",
     "text": [
      "1/1 [==============================] - 0s 72ms/step\n"
     ]
    },
    {
     "name": "stderr",
     "output_type": "stream",
     "text": [
      "127.0.0.1 - - [21/Jan/2023 23:20:11] \"POST /api HTTP/1.1\" 200 -\n",
      "127.0.0.1 - - [21/Jan/2023 23:42:45] \"GET / HTTP/1.1\" 404 -\n"
     ]
    },
    {
     "name": "stdout",
     "output_type": "stream",
     "text": [
      "1/1 [==============================] - 0s 23ms/step\n"
     ]
    },
    {
     "name": "stderr",
     "output_type": "stream",
     "text": [
      "127.0.0.1 - - [21/Jan/2023 23:43:11] \"POST /api HTTP/1.1\" 200 -\n"
     ]
    }
   ],
   "source": [
    "from tensorflow.keras.models import load_model\n",
    "from flask import Flask, request, jsonify\n",
    "import os\n",
    "import numpy as np\n",
    "import uuid\n",
    "\n",
    "# Expected boundaries of the input values\n",
    "Expected ={\n",
    "    'cylinders': {'min': 3, 'max': 8}, \n",
    "    'displacement': {'min': 68.0, 'max': 455.0}, \n",
    "    'horsepower': {'min': 46.0, 'max': 230.0}, \n",
    "    'weight': {'min': 1613, 'max': 5140}, \n",
    "    'acceleration': {'min': 8.0, 'max': 24.8}, \n",
    "    'year': {'min': 70, 'max': 82}, \n",
    "    'origin': {'min': 1, 'max': 3}\n",
    "}\n",
    "\n",
    "# Setting the directory\n",
    "os.chdir(r'C:\\Users\\Wolabtaponikyini\\Desktop\\Flask Implementation\\flaskdata')\n",
    "\n",
    "# Loading the model\n",
    "model = load_model(os.path.join(os.getcwd(), 'model.h5'))\n",
    "#model.summary()\n",
    "\n",
    "# Creating flask app\n",
    "app = Flask(__name__)\n",
    "\n",
    "@app.route('/api', methods=['POST'])\n",
    "def mpg_prediction():\n",
    "    content = request.json\n",
    "    errors = []\n",
    "    for name in content:\n",
    "        if name in Expected:\n",
    "            expected_min = Expected[name]['min']\n",
    "            expected_max = Expected[name]['max']\n",
    "            value = content[name]\n",
    "            if value < expected_min or value > expected_max:\n",
    "                errors.append(f'Out of bounds: {name}, has value of: {value}, but it should be between {expected_min} and {expected_max}.')\n",
    "        else:\n",
    "            errors.append(f'Unexpected field: {name}')\n",
    "            \n",
    "    for name in Expected:\n",
    "        if name not in content:\n",
    "            errors.append(f'Missing value:  {value}')\n",
    "    \n",
    "    if len(errors) < 1:\n",
    "        x = np.zeros((1,7))\n",
    "        x[0,0] = content['cylinders']\n",
    "        x[0,1] = content['displacement']\n",
    "        x[0,2] = content['horsepower']\n",
    "        x[0,3] = content['weight']\n",
    "        x[0,4] = content['acceleration']\n",
    "        x[0,5] = content['year']\n",
    "        x[0,6] = content['origin']\n",
    "        \n",
    "        prediction = model.predict(x)\n",
    "        mpg = float(prediction[0])\n",
    "        response = {'id': str(uuid.uuid4()), 'mpg' : mpg, 'errors': errors}\n",
    "    else:\n",
    "        response = {'id': str(uuid.uuid4()), 'errors': errors}\n",
    "        \n",
    "    return jsonify(response)\n",
    "\n",
    "\n",
    "\n",
    "if __name__ == '__main__':\n",
    "    app.run(debug=True, use_reloader=False)\n"
   ]
  },
  {
   "cell_type": "code",
   "execution_count": 2,
   "id": "60577668",
   "metadata": {},
   "outputs": [],
   "source": [
    "#import requests\n",
    "#json = {\n",
    "    #'cylinders': 8,\n",
    "    #'displacement': 300,\n",
    "    #'horsepower': 78,\n",
    "    #'weight': 3500,\n",
    "    #'acceleration': 20,\n",
    "    #'year': 76,\n",
    "    #'origin': 1\n",
    "#}\n",
    "\n",
    "#r = requests.post('http://localhost:5000/api', json=json)\n",
    "\n",
    "#if r.status_code == 200:\n",
    "    #print(f'works: {r.text}')\n",
    "#else:\n",
    "    #print(f'Fail: {r.text}')"
   ]
  },
  {
   "cell_type": "code",
   "execution_count": null,
   "id": "b27fe685",
   "metadata": {},
   "outputs": [],
   "source": []
  }
 ],
 "metadata": {
  "kernelspec": {
   "display_name": "Python 3 (ipykernel)",
   "language": "python",
   "name": "python3"
  },
  "language_info": {
   "codemirror_mode": {
    "name": "ipython",
    "version": 3
   },
   "file_extension": ".py",
   "mimetype": "text/x-python",
   "name": "python",
   "nbconvert_exporter": "python",
   "pygments_lexer": "ipython3",
   "version": "3.9.15"
  }
 },
 "nbformat": 4,
 "nbformat_minor": 5
}
