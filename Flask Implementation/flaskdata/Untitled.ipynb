{
 "cells": [
  {
   "cell_type": "code",
   "execution_count": 1,
   "id": "d71235b7",
   "metadata": {},
   "outputs": [],
   "source": [
    "from flask import Flask, request, jsonify, render_template\n",
    "from werkzeug.utils import secure_filename as secure_filename\n",
    "from PIL import Image, ImageFile\n",
    "from io import BytesIO\n",
    "import os\n",
    "import numpy as np\n",
    "from tensorflow.keras.models import load_model\n",
    "from tensorflow.keras.applications import MobileNet\n",
    "from tensorflow.keras.preprocessing import image\n",
    "from tensorflow.keras.applications.mobilenet import preprocess_input\n",
    "from tensorflow.keras.applications.mobilenet import decode_predictions\n",
    "\n",
    "\n",
    "\n",
    "ALLOWED_EXTENSIONS = set(['txt', 'pdf', 'png', 'jpeg', 'git'])\n",
    "IMAGE_HEIGHT = 224\n",
    "IMAGE_WIDHT = 224\n",
    "IMAGE_CHANNELS = 3\n",
    "os.chdir(r'C:\\Users\\Wolabtaponikyini\\Desktop\\Flask Implementation\\flaskdata')\n",
    "\n",
    "\n",
    "def allowed_file(filename):\n",
    "    return '.' in filename and \\\n",
    "    filename.rsplit('.',1)[1] in ALLOWED_EXTENSIONS"
   ]
  },
  {
   "cell_type": "code",
   "execution_count": null,
   "id": "5724231b",
   "metadata": {},
   "outputs": [
    {
     "name": "stdout",
     "output_type": "stream",
     "text": [
      " * Serving Flask app '__main__' (lazy loading)\n",
      " * Environment: production\n",
      "\u001b[31m   WARNING: This is a development server. Do not use it in a production deployment.\u001b[0m\n",
      "\u001b[2m   Use a production WSGI server instead.\u001b[0m\n",
      " * Debug mode: on\n"
     ]
    },
    {
     "name": "stderr",
     "output_type": "stream",
     "text": [
      " * Running on http://127.0.0.1:5000 (Press CTRL+C to quit)\n",
      "127.0.0.1 - - [22/Jan/2023 02:04:12] \"GET / HTTP/1.1\" 404 -\n",
      "127.0.0.1 - - [22/Jan/2023 02:04:23] \"GET /index HTTP/1.1\" 200 -\n",
      "127.0.0.1 - - [22/Jan/2023 02:04:24] \"GET /static/css/style.css HTTP/1.1\" 304 -\n",
      "127.0.0.1 - - [22/Jan/2023 02:04:36] \"POST /api/image HTTP/1.1\" 200 -\n",
      "127.0.0.1 - - [22/Jan/2023 02:04:36] \"GET /static/css/style.css HTTP/1.1\" 304 -\n",
      "127.0.0.1 - - [22/Jan/2023 02:04:37] \"POST /api/image HTTP/1.1\" 200 -\n",
      "127.0.0.1 - - [22/Jan/2023 02:04:37] \"GET /static/css/style.css HTTP/1.1\" 304 -\n",
      "127.0.0.1 - - [22/Jan/2023 02:04:38] \"POST /api/image HTTP/1.1\" 200 -\n",
      "127.0.0.1 - - [22/Jan/2023 02:04:38] \"GET /static/css/style.css HTTP/1.1\" 304 -\n",
      "127.0.0.1 - - [22/Jan/2023 02:04:39] \"POST /api/image HTTP/1.1\" 200 -\n",
      "127.0.0.1 - - [22/Jan/2023 02:04:39] \"GET /static/css/style.css HTTP/1.1\" 304 -\n",
      "127.0.0.1 - - [22/Jan/2023 02:04:39] \"POST /api/image HTTP/1.1\" 200 -\n",
      "127.0.0.1 - - [22/Jan/2023 02:04:39] \"GET /static/css/style.css HTTP/1.1\" 304 -\n",
      "127.0.0.1 - - [22/Jan/2023 02:04:40] \"POST /api/image HTTP/1.1\" 200 -\n",
      "127.0.0.1 - - [22/Jan/2023 02:04:40] \"GET /static/css/style.css HTTP/1.1\" 304 -\n",
      "127.0.0.1 - - [22/Jan/2023 02:04:41] \"POST /api/image HTTP/1.1\" 200 -\n",
      "127.0.0.1 - - [22/Jan/2023 02:04:41] \"GET /static/css/style.css HTTP/1.1\" 304 -\n",
      "127.0.0.1 - - [22/Jan/2023 02:05:56] \"POST /api/image HTTP/1.1\" 200 -\n",
      "127.0.0.1 - - [22/Jan/2023 02:05:56] \"GET /static/css/style.css HTTP/1.1\" 304 -\n",
      "127.0.0.1 - - [22/Jan/2023 02:06:03] \"POST /api/image HTTP/1.1\" 200 -\n",
      "127.0.0.1 - - [22/Jan/2023 02:06:03] \"GET /static/css/style.css HTTP/1.1\" 304 -\n",
      "127.0.0.1 - - [22/Jan/2023 02:06:05] \"POST /api/image HTTP/1.1\" 200 -\n",
      "127.0.0.1 - - [22/Jan/2023 02:06:05] \"GET /static/css/style.css HTTP/1.1\" 304 -\n",
      "127.0.0.1 - - [22/Jan/2023 02:06:06] \"POST /api/image HTTP/1.1\" 200 -\n",
      "127.0.0.1 - - [22/Jan/2023 02:06:06] \"GET /static/css/style.css HTTP/1.1\" 304 -\n",
      "127.0.0.1 - - [22/Jan/2023 02:06:07] \"POST /api/image HTTP/1.1\" 200 -\n",
      "127.0.0.1 - - [22/Jan/2023 02:06:07] \"GET /static/css/style.css HTTP/1.1\" 304 -\n"
     ]
    }
   ],
   "source": [
    "app = Flask(__name__)\n",
    "model = MobileNet(weights='imagenet', include_top=True)\n",
    "\n",
    "@app.route('/index')\n",
    "def index():\n",
    "    return render_template('ImageML.html')\n",
    "\n",
    "@app.route('/api/image', methods=['POST'])\n",
    "def upload_image():\n",
    "    if 'image' not in request.files:\n",
    "        return render_template('ImageML.html', prediction='No posted image. Should be attribute named image')\n",
    "    file = request.files['image']\n",
    "    \n",
    "    if file.filename =='':\n",
    "        return render_template('ImageML.html', prediction = 'You did not select an image')\n",
    "    \n",
    "    if file and allowed_file(file.filename):\n",
    "        filename = secure_filename(file.filename)\n",
    "        print(\"***\"+filename)\n",
    "        x = []\n",
    "        ImageFile.LOAD_TRUNCATED_IMAGES = False\n",
    "        img = Image.open(BytesIO(file.read()))\n",
    "        img.load()\n",
    "        img  = img.resize((IMAGE_WIDTH, IMAGE_HEIGHT), Image.ANTIALIAS)\n",
    "        x  = image.img_to_array(img)\n",
    "        x = np.expand_dims(x, axis=0)\n",
    "        x  = preprocess_input(x)\n",
    "        pred = model.predict(x)\n",
    "        lst =  decode_predictions(pred, top=3)\n",
    "        \n",
    "        items = []\n",
    "        for item in lst[0]:\n",
    "            items.append({'name': item[1], 'prob': float(item[2])})\n",
    "        \n",
    "        response = {'pred': items}\n",
    "        return render_template('ImageML.html', prediction = 'I would say the image is most likely {}'.format(response))\n",
    "    else:\n",
    "        return render_template('ImageML.html', prediction = 'Invalid File extension')\n",
    "\n",
    "if __name__ == '__main__':\n",
    "    app.run(debug=True, use_reloader=False)"
   ]
  },
  {
   "cell_type": "code",
   "execution_count": null,
   "id": "866dee7b",
   "metadata": {},
   "outputs": [],
   "source": []
  }
 ],
 "metadata": {
  "kernelspec": {
   "display_name": "Python 3 (ipykernel)",
   "language": "python",
   "name": "python3"
  },
  "language_info": {
   "codemirror_mode": {
    "name": "ipython",
    "version": 3
   },
   "file_extension": ".py",
   "mimetype": "text/x-python",
   "name": "python",
   "nbconvert_exporter": "python",
   "pygments_lexer": "ipython3",
   "version": "3.9.15"
  }
 },
 "nbformat": 4,
 "nbformat_minor": 5
}
