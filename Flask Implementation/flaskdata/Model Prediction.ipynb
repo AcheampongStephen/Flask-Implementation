{
 "cells": [
  {
   "cell_type": "code",
   "execution_count": 19,
   "id": "d318972a",
   "metadata": {},
   "outputs": [
    {
     "name": "stdout",
     "output_type": "stream",
     "text": [
      "{'cylinders': {'min': 3, 'max': 8}, 'displacement': {'min': 68.0, 'max': 455.0}, 'horsepower': {'min': '100', 'max': '?'}, 'weight': {'min': 1613, 'max': 5140}, 'acceleration': {'min': 8.0, 'max': 24.8}, 'year': {'min': 70, 'max': 82}, 'origin': {'min': 1, 'max': 3}}\n",
      "1/1 [==============================] - 0s 63ms/step\n"
     ]
    },
    {
     "data": {
      "text/plain": [
       "17.05310821533203"
      ]
     },
     "execution_count": 19,
     "metadata": {},
     "output_type": "execute_result"
    }
   ],
   "source": [
    "# Import libraries\n",
    "import pandas as pd\n",
    "import os\n",
    "from tensorflow.keras.models import load_model\n",
    "import numpy as np\n",
    "\n",
    "# Loading the dataset\n",
    "df = pd.read_csv('auto-mpg.csv')\n",
    "\n",
    "# Setting the boundaries of the input values\n",
    "cols = [x for x in df.columns if x not in ('mpg', 'name')]\n",
    "print({name: {\"min\": df[name].min(), \"max\": df[name].max()} for name in cols})\n",
    "\n",
    "# Changing directory for the os\n",
    "os.chdir(r'C:\\Users\\Wolabtaponikyini\\Desktop\\Flask Implementation\\flaskdata')\n",
    "\n",
    "# Loading the model\n",
    "model = load_model(os.path.join(os.getcwd(), 'model.h5'))\n",
    "#model.summary()\n",
    "\n",
    "# Personal inputs to predict according to boundaries of the features\n",
    "x = np.zeros((1, 7))\n",
    "#print(x)\n",
    "\n",
    "x[0,0] = 3\n",
    "x[0,1] = 345\n",
    "x[0,2] = 84\n",
    "x[0,3] = 3440\n",
    "x[0,4] = 19\n",
    "x[0,5] = 72\n",
    "x[0,6] = 1\n",
    "#print(x)\n",
    "\n",
    "# Predicting personal input\n",
    "prediction = model.predict(x)\n",
    "float(prediction[0])\n"
   ]
  },
  {
   "cell_type": "code",
   "execution_count": 20,
   "id": "5e3f9aa2",
   "metadata": {},
   "outputs": [
    {
     "name": "stdout",
     "output_type": "stream",
     "text": [
      "works: {\n",
      "  \"errors\": [], \n",
      "  \"id\": \"c344f3f7-f245-48da-9708-2710790cf7a1\", \n",
      "  \"mpg\": 20.33815574645996\n",
      "}\n",
      "\n"
     ]
    }
   ],
   "source": [
    "import requests\n",
    "json = {\n",
    "    'cylinders': 8,\n",
    "    'displacement': 300,\n",
    "    'horsepower': 78,\n",
    "    'weight': 3500,\n",
    "    'acceleration': 20,\n",
    "    'year': 76,\n",
    "    'origin': 1\n",
    "}\n",
    "\n",
    "r = requests.post('http://localhost:5000/api', json=json)\n",
    "\n",
    "if r.status_code == 200:\n",
    "    print(f'works: {r.text}')\n",
    "else:\n",
    "    print(f'Fail: {r.text}')"
   ]
  },
  {
   "cell_type": "code",
   "execution_count": null,
   "id": "d546a390",
   "metadata": {},
   "outputs": [],
   "source": []
  }
 ],
 "metadata": {
  "kernelspec": {
   "display_name": "Python 3 (ipykernel)",
   "language": "python",
   "name": "python3"
  },
  "language_info": {
   "codemirror_mode": {
    "name": "ipython",
    "version": 3
   },
   "file_extension": ".py",
   "mimetype": "text/x-python",
   "name": "python",
   "nbconvert_exporter": "python",
   "pygments_lexer": "ipython3",
   "version": "3.9.15"
  }
 },
 "nbformat": 4,
 "nbformat_minor": 5
}
